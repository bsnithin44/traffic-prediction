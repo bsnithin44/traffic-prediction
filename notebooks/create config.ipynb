{
 "cells": [
  {
   "cell_type": "code",
   "execution_count": 1,
   "metadata": {},
   "outputs": [],
   "source": [
    "import pandas as pd\n",
    "import json"
   ]
  },
  {
   "cell_type": "markdown",
   "metadata": {},
   "source": [
    "## Create"
   ]
  },
  {
   "cell_type": "code",
   "execution_count": 2,
   "metadata": {},
   "outputs": [],
   "source": [
    "road_config= {}"
   ]
  },
  {
   "cell_type": "markdown",
   "metadata": {},
   "source": [
    "Kundanhalli junction"
   ]
  },
  {
   "cell_type": "code",
   "execution_count": 3,
   "metadata": {},
   "outputs": [],
   "source": [
    "road_config['junction-1'] = {}\n",
    "road_config['junction-1']['name']= 'kundanhalli-junction'\n",
    "road_config['junction-1']['center'] = '12.955877, 77.714762'\n",
    "road_config['junction-1']['n_roads'] = 4\n",
    "\n",
    "road_config['junction-1']['roads'] = {}\n",
    "road_config['junction-1']['roads']['1'] = {}\n",
    "road_config['junction-1']['roads']['2'] = {}\n",
    "road_config['junction-1']['roads']['3'] = {}\n",
    "road_config['junction-1']['roads']['4'] = {}\n",
    "\n",
    "road_config['junction-1']['roads']['1']['start'] = '12.956837, 77.702933'\n",
    "road_config['junction-1']['roads']['2']['start'] = '12.964115, 77.717878'\n",
    "road_config['junction-1']['roads']['3']['start'] = '12.955790, 77.724528'\n",
    "road_config['junction-1']['roads']['4']['start'] = '12.954384, 77.715036'\n",
    "\n",
    "road_config['junction-1']['roads']['1']['end'] = '12.955877, 77.714762'\n",
    "road_config['junction-1']['roads']['2']['end'] = '12.955877, 77.714762'\n",
    "road_config['junction-1']['roads']['3']['end'] = '12.955877, 77.714762'\n",
    "road_config['junction-1']['roads']['4']['end'] = '12.955877, 77.714762'\n",
    "\n",
    "road_config['junction-1']['roads']['1']['name'] = 'from marathahalli'\n",
    "road_config['junction-1']['roads']['2']['name'] = 'from iptl'\n",
    "road_config['junction-1']['roads']['3']['name'] = 'from varthur'\n",
    "road_config['junction-1']['roads']['4']['name'] = 'from sai baba temple'"
   ]
  },
  {
   "cell_type": "markdown",
   "metadata": {},
   "source": [
    "Yemalur Junction"
   ]
  },
  {
   "cell_type": "code",
   "execution_count": 4,
   "metadata": {},
   "outputs": [],
   "source": [
    "road_config['junction-2'] = {}\n",
    "road_config['junction-2']['name']= 'yemalur-junction'\n",
    "road_config['junction-2']['center'] = '12.955376, 77.689448'\n",
    "road_config['junction-2']['n_roads'] = 3\n",
    "\n",
    "road_config['junction-2']['roads'] = {}\n",
    "\n",
    "road_config['junction-2']['roads']['1'] = {}\n",
    "road_config['junction-2']['roads']['2'] = {}\n",
    "road_config['junction-2']['roads']['3'] = {}\n",
    "\n",
    "road_config['junction-2']['roads']['1']['start'] = '12.954649, 77.682411'\n",
    "road_config['junction-2']['roads']['2']['start'] = '12.955699, 77.691326'\n",
    "road_config['junction-2']['roads']['3']['start'] = '12.951254, 77.689465'\n",
    "\n",
    "road_config['junction-2']['roads']['1']['end'] = '12.955376, 77.689448'\n",
    "road_config['junction-2']['roads']['2']['end'] = '12.955376, 77.689448'\n",
    "road_config['junction-2']['roads']['3']['end'] = '12.955376, 77.689448'\n",
    "\n",
    "road_config['junction-2']['roads']['1']['name'] = 'from hal'\n",
    "road_config['junction-2']['roads']['2']['name'] = 'from marathahalli'\n",
    "road_config['junction-2']['roads']['3']['name'] = 'from yemalur'"
   ]
  },
  {
   "cell_type": "markdown",
   "metadata": {},
   "source": [
    "Nal Junction"
   ]
  },
  {
   "cell_type": "code",
   "execution_count": 5,
   "metadata": {},
   "outputs": [],
   "source": [
    "road_config['junction-3'] = {}\n",
    "road_config['junction-3']['name']= 'nal-junction'\n",
    "road_config['junction-3']['center'] = '12.959375, 77.654186'\n",
    "road_config['junction-3']['n_roads'] = 3\n",
    "\n",
    "road_config['junction-3']['roads'] = {}\n",
    "\n",
    "road_config['junction-3']['roads']['1'] = {}\n",
    "road_config['junction-3']['roads']['2'] = {}\n",
    "road_config['junction-3']['roads']['3'] = {}\n",
    "\n",
    "road_config['junction-3']['roads']['1']['start'] = '12.959619, 77.651230'\n",
    "road_config['junction-3']['roads']['2']['start'] = '12.959191, 77.660660'\n",
    "road_config['junction-3']['roads']['3']['start'] = '12.957706, 77.653794'\n",
    "\n",
    "road_config['junction-3']['roads']['1']['end'] = '12.959375, 77.654186'\n",
    "road_config['junction-3']['roads']['2']['end'] = '12.959375, 77.654186'\n",
    "road_config['junction-3']['roads']['3']['end'] = '12.959375, 77.654186'\n",
    "\n",
    "road_config['junction-3']['roads']['1']['name'] = 'from domlur'\n",
    "road_config['junction-3']['roads']['2']['name'] = 'from from yemalur'\n",
    "road_config['junction-3']['roads']['3']['name'] = 'from nal'"
   ]
  },
  {
   "cell_type": "markdown",
   "metadata": {},
   "source": [
    "## View"
   ]
  },
  {
   "cell_type": "code",
   "execution_count": 6,
   "metadata": {},
   "outputs": [
    {
     "data": {
      "text/plain": [
       "{'junction-1': {'name': 'kundanhalli-junction',\n",
       "  'center': '12.955877, 77.714762',\n",
       "  'n_roads': 4,\n",
       "  'roads': {'1': {'start': '12.956837, 77.702933',\n",
       "    'end': '12.955877, 77.714762',\n",
       "    'name': 'from marathahalli'},\n",
       "   '2': {'start': '12.964115, 77.717878',\n",
       "    'end': '12.955877, 77.714762',\n",
       "    'name': 'from iptl'},\n",
       "   '3': {'start': '12.955790, 77.724528',\n",
       "    'end': '12.955877, 77.714762',\n",
       "    'name': 'from varthur'},\n",
       "   '4': {'start': '12.954384, 77.715036',\n",
       "    'end': '12.955877, 77.714762',\n",
       "    'name': 'from sai baba temple'}}},\n",
       " 'junction-2': {'name': 'yemalur-junction',\n",
       "  'center': '12.955376, 77.689448',\n",
       "  'n_roads': 3,\n",
       "  'roads': {'1': {'start': '12.954649, 77.682411',\n",
       "    'end': '12.955376, 77.689448',\n",
       "    'name': 'from hal'},\n",
       "   '2': {'start': '12.955699, 77.691326',\n",
       "    'end': '12.955376, 77.689448',\n",
       "    'name': 'from marathahalli'},\n",
       "   '3': {'start': '12.951254, 77.689465',\n",
       "    'end': '12.955376, 77.689448',\n",
       "    'name': 'from yemalur'}}},\n",
       " 'junction-3': {'name': 'nal-junction',\n",
       "  'center': '12.959375, 77.654186',\n",
       "  'n_roads': 3,\n",
       "  'roads': {'1': {'start': '12.959619, 77.651230',\n",
       "    'end': '12.959375, 77.654186',\n",
       "    'name': 'from domlur'},\n",
       "   '2': {'start': '12.959191, 77.660660',\n",
       "    'end': '12.959375, 77.654186',\n",
       "    'name': 'from from yemalur'},\n",
       "   '3': {'start': '12.957706, 77.653794',\n",
       "    'end': '12.959375, 77.654186',\n",
       "    'name': 'from nal'}}}}"
      ]
     },
     "execution_count": 6,
     "metadata": {},
     "output_type": "execute_result"
    }
   ],
   "source": [
    "road_config"
   ]
  },
  {
   "cell_type": "markdown",
   "metadata": {},
   "source": [
    "## Save"
   ]
  },
  {
   "cell_type": "code",
   "execution_count": 7,
   "metadata": {},
   "outputs": [],
   "source": [
    "filename = 'road_config.json'\n",
    "with open(f'../{filename}','w') as f:\n",
    "    json.dump(road_config,f,sort_keys=True,indent=4)"
   ]
  },
  {
   "cell_type": "markdown",
   "metadata": {},
   "source": [
    "## Upload"
   ]
  },
  {
   "cell_type": "code",
   "execution_count": 8,
   "metadata": {},
   "outputs": [],
   "source": [
    "from azure.storage.blob import BlockBlobService"
   ]
  },
  {
   "cell_type": "code",
   "execution_count": 9,
   "metadata": {},
   "outputs": [],
   "source": [
    "my_acc_name = 'nithindev' \n",
    "my_acc_key = 'AJCUenkBC+LYslpZXFlJqha/pcNHWNBNoDQg/+rHb7QFktedIKuczFhMfbJPl2fn3lO6+xNkBDoXtm7QBSukFA=='\n",
    "container_name = 'traffic-config'"
   ]
  },
  {
   "cell_type": "code",
   "execution_count": 10,
   "metadata": {},
   "outputs": [
    {
     "data": {
      "text/plain": [
       "<azure.storage.blob.models.ResourceProperties at 0x10c975518>"
      ]
     },
     "execution_count": 10,
     "metadata": {},
     "output_type": "execute_result"
    }
   ],
   "source": [
    "blob_service = BlockBlobService(account_key=my_acc_key,account_name=my_acc_name)\n",
    "blob_service.create_container(container_name)\n",
    "blob_service.create_blob_from_path(container_name=container_name,blob_name=filename,file_path=f'../{filename}')"
   ]
  },
  {
   "cell_type": "code",
   "execution_count": null,
   "metadata": {},
   "outputs": [],
   "source": []
  }
 ],
 "metadata": {
  "kernelspec": {
   "display_name": "test-env",
   "language": "python",
   "name": "test-env"
  },
  "language_info": {
   "codemirror_mode": {
    "name": "ipython",
    "version": 3
   },
   "file_extension": ".py",
   "mimetype": "text/x-python",
   "name": "python",
   "nbconvert_exporter": "python",
   "pygments_lexer": "ipython3",
   "version": "3.7.3"
  }
 },
 "nbformat": 4,
 "nbformat_minor": 2
}
